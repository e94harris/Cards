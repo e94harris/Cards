{
 "cells": [
  {
   "cell_type": "code",
   "execution_count": null,
   "id": "initial_id",
   "metadata": {
    "collapsed": true
   },
   "outputs": [],
   "source": [
    "import os\n",
    "\n",
    "import pandas as pd\n",
    "\n",
    "private_key_path = \"../private/private_key.pem\"\n",
    "key = Fernet.generate_key()\n",
    "f = Fernet(key)\n",
    "\n",
    "# Sauvegarder la clé\n",
    "with open(private_key_path, \"wb\") as key_file:\n",
    "    key_file.write(key)\n"
   ]
  },
  {
   "cell_type": "markdown",
   "source": [
    "## Chiffrement du fichier Excel contenant les données des étudiants"
   ],
   "metadata": {
    "collapsed": false
   },
   "id": "e670db954e81843f"
  },
  {
   "cell_type": "code",
   "execution_count": null,
   "outputs": [],
   "source": [
    "def encrypt_student_list(key_path, excel_path):\n",
    "    with open(key_path, \"rb\") as key_file:\n",
    "        key = key_file.read()\n",
    "    df = pd.read_excel(excel_path)\n",
    "    columns = df.columns\n",
    "    # Convertir le DataFrame en un tableau structuré (structured array) de NumPy\n",
    "    structured_array = df.to_records(index=False)\n",
    "\n",
    "    # Convertir chaque dictionnaire en une chaîne de caractères\n",
    "    list_of_strings = []\n",
    "    for d in structured_array:\n",
    "        for elm in d:\n",
    "            list_of_strings.append(str(elm))\n",
    "    \n",
    "    f = Fernet(key)\n",
    "    cryptList = [f.encrypt(elm.encode()) for elm in list_of_strings]\n",
    "    res = []\n",
    "    for i in range(0, len(cryptList), 4):\n",
    "        res.append([cryptList[i], cryptList[i+1], cryptList[i+2], cryptList[i+3]])\n",
    "    df = pd.DataFrame(res, columns=columns)\n",
    "    crypt_xlsx = \"../private/list_crypt.xlsx\"\n",
    "    df.to_excel(crypt_xlsx, index=False)\n",
    "    return crypt_xlsx\n",
    "\n",
    "encrypt_student_list(private_key_path, \"../private/login_excel.xlsx\")"
   ],
   "metadata": {
    "collapsed": false
   },
   "id": "3b7897d9ab5f8244"
  },
  {
   "cell_type": "code",
   "execution_count": 92,
   "outputs": [
    {
     "data": {
      "text/plain": "[\"b'gAAAAABlQ5lVOqna1cC8IyS1uxRXheU7mLIfW3Iq-m6Q_LUWvF9v3sQPzmJVfukycFzIVSDqPNpKj5-RqIZg2BtW7ll3Rnm6Gw=='\",\n \"b'gAAAAABlQ5lV2HJX6k4OT6c1ewlgkhKS3Eib2rtQqsETJg40eH45bEQ5nYmR3E9mYIo5JxmaLDygJzhlxtM4OjPfEqeOgmL3jg=='\",\n \"b'gAAAAABlQ5lVIdTLMMhTOzv42KGWq9_j-lAa53RYFn_4EqimFAbfzK9hYhlitVyh_9mD5BoYxsibRnbJKUfG829nER3z9vnXTw=='\",\n \"b'gAAAAABlQ5lVDkrrmFXxocD91mfwMaZeu0_OcDYlG6HhAh62mZD_y20v6hvRGitcHovNA_6F-fIUeoCacMxdbL1-kRIhqNlxGA=='\",\n \"b'gAAAAABlQ5lVVxXj58yXkkSvelaQmrHTIU2MFZnCdlm2DR4as2t15oa5njf9t4OsZBa8gCEqBICuKyZDE3Vy9MMgNjktgUUFHA=='\",\n \"b'gAAAAABlQ5lVWFz3x8bvreRV15tGQND_5hsVlRz2LGx9WJwIWiDCdNL0cW12ANZ-uKrvfDzMfExcq2sreINuw4aiAmzcMJhIoA=='\",\n \"b'gAAAAABlQ5lVsXKlBEP40ZXxGVY5KGbgu_KT5MPSotOA4DSi0-4CMcMgfDrFAUnP-VBsmyOQBbswZTjCWCPuDBo-IQ5tArJGdw=='\",\n \"b'gAAAAABlQ5lVX4JZg1sVwLgg1BDDcKtQOdZZ599W9uQhmrFEueKf_3dztxHWBIiAhhF8or5dAo_aH_XJsaBRAgGO8ZqDglHuVg=='\",\n \"b'gAAAAABlQ5lVH1pPTde8lrImKfnZvZzmgQddXnObDCfaMbxy4y5z1tU30XEgew-2Zl2eU7E-8DNmrL3TFnY12TMPRcMoJTSzhA=='\",\n \"b'gAAAAABlQ5lVekQVj4SUWN6UBhNzV4epHkT-Ky60RU_E1Jy7qL2c0d75i49Y1E_mcmpTYw9FDKcFLgjX4whs3Q-NlcDpoMItlA=='\",\n \"b'gAAAAABlQ5lVLQdw3QpTXkT6TKtWuQpxtfOrrA2FDzx7UE4Xh1ipuSFj8tWzZTX5NqM05kyWIjrpbhcCFrIzq0gTRxPxg2kXiw=='\",\n \"b'gAAAAABlQ5lVQPleokPMg_XLA2BI3fuW-D0-WwaFdU_oEN6uWlOewk6hgW2FSWDxCMfkn7i1hbq8qXsb1CHR-xCRW-kShvPtcw=='\"]"
     },
     "execution_count": 92,
     "metadata": {},
     "output_type": "execute_result"
    }
   ],
   "source": [
    "df = pd.read_excel(\"../private/list_crypt.xlsx\")\n",
    "\n",
    "with open(private_key_path, \"rb\") as key_file:\n",
    "    key = key_file.read()\n",
    "f = Fernet(key)\n",
    "structured_array = df.to_records(index=False)\n",
    "list_of_strings = []\n",
    "for d in structured_array:\n",
    "    for elm in d:\n",
    "        list_of_strings.append(str(elm))\n",
    "list_of_strings"
   ],
   "metadata": {
    "collapsed": false,
    "ExecuteTime": {
     "end_time": "2023-11-02T12:48:21.058825900Z",
     "start_time": "2023-11-02T12:48:21.025363900Z"
    }
   },
   "id": "d3057f6db0e7285f"
  },
  {
   "cell_type": "code",
   "execution_count": 93,
   "outputs": [
    {
     "ename": "InvalidToken",
     "evalue": "",
     "output_type": "error",
     "traceback": [
      "\u001B[1;31m---------------------------------------------------------------------------\u001B[0m",
      "\u001B[1;31mInvalidToken\u001B[0m                              Traceback (most recent call last)",
      "Input \u001B[1;32mIn [93]\u001B[0m, in \u001B[0;36m<module>\u001B[1;34m\u001B[0m\n\u001B[1;32m----> 1\u001B[0m decryptMessage \u001B[38;5;241m=\u001B[39m [f\u001B[38;5;241m.\u001B[39mdecrypt(elm)\u001B[38;5;241m.\u001B[39mencode() \u001B[38;5;28;01mfor\u001B[39;00m elm \u001B[38;5;129;01min\u001B[39;00m list_of_strings]\n\u001B[0;32m      2\u001B[0m decryptMessage\n",
      "Input \u001B[1;32mIn [93]\u001B[0m, in \u001B[0;36m<listcomp>\u001B[1;34m(.0)\u001B[0m\n\u001B[1;32m----> 1\u001B[0m decryptMessage \u001B[38;5;241m=\u001B[39m [\u001B[43mf\u001B[49m\u001B[38;5;241;43m.\u001B[39;49m\u001B[43mdecrypt\u001B[49m\u001B[43m(\u001B[49m\u001B[43melm\u001B[49m\u001B[43m)\u001B[49m\u001B[38;5;241m.\u001B[39mencode() \u001B[38;5;28;01mfor\u001B[39;00m elm \u001B[38;5;129;01min\u001B[39;00m list_of_strings]\n\u001B[0;32m      2\u001B[0m decryptMessage\n",
      "File \u001B[1;32mc:\\users\\wasp_\\appdata\\local\\programs\\python\\python39\\lib\\site-packages\\cryptography\\fernet.py:86\u001B[0m, in \u001B[0;36mFernet.decrypt\u001B[1;34m(self, token, ttl)\u001B[0m\n\u001B[0;32m     83\u001B[0m \u001B[38;5;28;01mdef\u001B[39;00m \u001B[38;5;21mdecrypt\u001B[39m(\n\u001B[0;32m     84\u001B[0m     \u001B[38;5;28mself\u001B[39m, token: typing\u001B[38;5;241m.\u001B[39mUnion[\u001B[38;5;28mbytes\u001B[39m, \u001B[38;5;28mstr\u001B[39m], ttl: typing\u001B[38;5;241m.\u001B[39mOptional[\u001B[38;5;28mint\u001B[39m] \u001B[38;5;241m=\u001B[39m \u001B[38;5;28;01mNone\u001B[39;00m\n\u001B[0;32m     85\u001B[0m ) \u001B[38;5;241m-\u001B[39m\u001B[38;5;241m>\u001B[39m \u001B[38;5;28mbytes\u001B[39m:\n\u001B[1;32m---> 86\u001B[0m     timestamp, data \u001B[38;5;241m=\u001B[39m \u001B[43mFernet\u001B[49m\u001B[38;5;241;43m.\u001B[39;49m\u001B[43m_get_unverified_token_data\u001B[49m\u001B[43m(\u001B[49m\u001B[43mtoken\u001B[49m\u001B[43m)\u001B[49m\n\u001B[0;32m     87\u001B[0m     \u001B[38;5;28;01mif\u001B[39;00m ttl \u001B[38;5;129;01mis\u001B[39;00m \u001B[38;5;28;01mNone\u001B[39;00m:\n\u001B[0;32m     88\u001B[0m         time_info \u001B[38;5;241m=\u001B[39m \u001B[38;5;28;01mNone\u001B[39;00m\n",
      "File \u001B[1;32mc:\\users\\wasp_\\appdata\\local\\programs\\python\\python39\\lib\\site-packages\\cryptography\\fernet.py:122\u001B[0m, in \u001B[0;36mFernet._get_unverified_token_data\u001B[1;34m(token)\u001B[0m\n\u001B[0;32m    119\u001B[0m     \u001B[38;5;28;01mraise\u001B[39;00m InvalidToken\n\u001B[0;32m    121\u001B[0m \u001B[38;5;28;01mif\u001B[39;00m \u001B[38;5;129;01mnot\u001B[39;00m data \u001B[38;5;129;01mor\u001B[39;00m data[\u001B[38;5;241m0\u001B[39m] \u001B[38;5;241m!=\u001B[39m \u001B[38;5;241m0x80\u001B[39m:\n\u001B[1;32m--> 122\u001B[0m     \u001B[38;5;28;01mraise\u001B[39;00m InvalidToken\n\u001B[0;32m    124\u001B[0m \u001B[38;5;28;01mif\u001B[39;00m \u001B[38;5;28mlen\u001B[39m(data) \u001B[38;5;241m<\u001B[39m \u001B[38;5;241m9\u001B[39m:\n\u001B[0;32m    125\u001B[0m     \u001B[38;5;28;01mraise\u001B[39;00m InvalidToken\n",
      "\u001B[1;31mInvalidToken\u001B[0m: "
     ]
    }
   ],
   "source": [
    "decryptMessage = [f.decrypt(elm).encode() for elm in list_of_strings]\n",
    "decryptMessage"
   ],
   "metadata": {
    "collapsed": false,
    "ExecuteTime": {
     "end_time": "2023-11-02T12:48:21.944078Z",
     "start_time": "2023-11-02T12:48:21.889547600Z"
    }
   },
   "id": "3f5774ac30c1025c"
  },
  {
   "cell_type": "code",
   "execution_count": 82,
   "outputs": [
    {
     "data": {
      "text/plain": "b'gAAAAABlQ5nFQyGFCb3oZyLneOL0cMbuBB9UeP9yK2DUeYS081zoDVH6ycsYfDwWgqrvg7P7acT1KzXG2cl3-UZqhqaWHOC1o1YVnZWjRp3VSP05GUxicx4YuNp8hQWOfhlCiw0XRYAu'"
     },
     "execution_count": 82,
     "metadata": {},
     "output_type": "execute_result"
    }
   ],
   "source": [
    "from cryptography.fernet import Fernet\n",
    "key = Fernet.generate_key()\n",
    "f = Fernet(key)\n",
    "token = f.encrypt(b\"A really secret message. Not for prying eyes.\")\n",
    "token"
   ],
   "metadata": {
    "collapsed": false,
    "ExecuteTime": {
     "end_time": "2023-11-02T12:44:53.508481500Z",
     "start_time": "2023-11-02T12:44:53.462986900Z"
    }
   },
   "id": "dbdd359c76cd4f15"
  },
  {
   "cell_type": "code",
   "execution_count": 83,
   "outputs": [
    {
     "data": {
      "text/plain": "b'A really secret message. Not for prying eyes.'"
     },
     "execution_count": 83,
     "metadata": {},
     "output_type": "execute_result"
    }
   ],
   "source": [
    "f.decrypt(token)"
   ],
   "metadata": {
    "collapsed": false,
    "ExecuteTime": {
     "end_time": "2023-11-02T12:44:54.502223Z",
     "start_time": "2023-11-02T12:44:54.449452Z"
    }
   },
   "id": "cf186447fb4d44b8"
  },
  {
   "cell_type": "code",
   "execution_count": 94,
   "outputs": [
    {
     "data": {
      "text/plain": "'gAAAAABlQ5rIyBllsCyGQa9KwtLPUNuNtLjwLF2rBDTc4YzwNvV1gYadbFNvrjUYrxp-RwX_IIE643EE3AVCSZmNyBrpQlTfeg=='"
     },
     "execution_count": 94,
     "metadata": {},
     "output_type": "execute_result"
    }
   ],
   "source": [
    "def encryptString(key_path, string):\n",
    "    with open(key_path, \"rb\") as key_file:\n",
    "        key = key_file.read()\n",
    "    f = Fernet(key)\n",
    "    return f.encrypt(string.encode()).decode()\n",
    "\n",
    "def decryptString(key_path, string):\n",
    "    with open(key_path, \"rb\") as key_file:\n",
    "        key = key_file.read()\n",
    "    f = Fernet(key)\n",
    "    return f.decrypt(string).decode()\n",
    "\n",
    "tmp_string = \"Hello World!\"\n",
    "encryptString(private_key_path, tmp_string)"
   ],
   "metadata": {
    "collapsed": false,
    "ExecuteTime": {
     "end_time": "2023-11-02T12:49:12.252289200Z",
     "start_time": "2023-11-02T12:49:12.221098100Z"
    }
   },
   "id": "2861089963b6abac"
  },
  {
   "cell_type": "code",
   "execution_count": 95,
   "outputs": [
    {
     "data": {
      "text/plain": "'Hello World!'"
     },
     "execution_count": 95,
     "metadata": {},
     "output_type": "execute_result"
    }
   ],
   "source": [
    "decryptString(private_key_path, encryptString(private_key_path, tmp_string))"
   ],
   "metadata": {
    "collapsed": false,
    "ExecuteTime": {
     "start_time": "2023-11-02T12:49:12.838848800Z"
    }
   },
   "id": "50ed78d201e35439"
  },
  {
   "cell_type": "code",
   "execution_count": 98,
   "outputs": [
    {
     "data": {
      "text/plain": "       Nom  Prénom        ID  MDP\n0   Harris   Tonia   tharris  123\n1  Tendron  Noemie  ntendron  456\n2   Harris  Erwann   eharris  789",
      "text/html": "<div>\n<style scoped>\n    .dataframe tbody tr th:only-of-type {\n        vertical-align: middle;\n    }\n\n    .dataframe tbody tr th {\n        vertical-align: top;\n    }\n\n    .dataframe thead th {\n        text-align: right;\n    }\n</style>\n<table border=\"1\" class=\"dataframe\">\n  <thead>\n    <tr style=\"text-align: right;\">\n      <th></th>\n      <th>Nom</th>\n      <th>Prénom</th>\n      <th>ID</th>\n      <th>MDP</th>\n    </tr>\n  </thead>\n  <tbody>\n    <tr>\n      <th>0</th>\n      <td>Harris</td>\n      <td>Tonia</td>\n      <td>tharris</td>\n      <td>123</td>\n    </tr>\n    <tr>\n      <th>1</th>\n      <td>Tendron</td>\n      <td>Noemie</td>\n      <td>ntendron</td>\n      <td>456</td>\n    </tr>\n    <tr>\n      <th>2</th>\n      <td>Harris</td>\n      <td>Erwann</td>\n      <td>eharris</td>\n      <td>789</td>\n    </tr>\n  </tbody>\n</table>\n</div>"
     },
     "execution_count": 98,
     "metadata": {},
     "output_type": "execute_result"
    }
   ],
   "source": [
    "def encryptDataFrame(key_path, excel_path):\n",
    "    df = pd.read_excel(excel_path)\n",
    "    columns = df.columns\n",
    "    structured_array = df.to_records(index=False)\n",
    "    list_of_strings = []\n",
    "    for d in structured_array:\n",
    "        for elm in d:\n",
    "            list_of_strings.append(str(elm))\n",
    "    cryptList = [encryptString(key_path, elm) for elm in list_of_strings]\n",
    "    res = []\n",
    "    for i in range(0, len(cryptList), 4):\n",
    "        res.append([cryptList[i], cryptList[i+1], cryptList[i+2], cryptList[i+3]])\n",
    "    df = pd.DataFrame(res, columns=columns)\n",
    "    crypt_xlsx = \"../private/list_crypt.xlsx\"\n",
    "    df.to_excel(crypt_xlsx, index=False)\n",
    "    return crypt_xlsx\n",
    "\n",
    "def decryptDataFrame(key_path, excel_path):\n",
    "    df = pd.read_excel(excel_path)\n",
    "    columns = df.columns\n",
    "    structured_array = df.to_records(index=False)\n",
    "    list_of_strings = []\n",
    "    for d in structured_array:\n",
    "        for elm in d:\n",
    "            list_of_strings.append(str(elm))\n",
    "    non_crypt_list = [decryptString(key_path, elm) for elm in list_of_strings]\n",
    "    res = []\n",
    "    for i in range(0, len(non_crypt_list), 4):\n",
    "        res.append([non_crypt_list[i], non_crypt_list[i+1], non_crypt_list[i+2], non_crypt_list[i+3]])\n",
    "    df = pd.DataFrame(res, columns=columns)\n",
    "    return df\n",
    "\n",
    "excel_crypt_path = encryptDataFrame(private_key_path, \"../private/login_excel.xlsx\")\n",
    "decryptDataFrame(private_key_path, excel_crypt_path)\n"
   ],
   "metadata": {
    "collapsed": false,
    "ExecuteTime": {
     "end_time": "2023-11-02T12:53:17.786213Z",
     "start_time": "2023-11-02T12:53:17.722581600Z"
    }
   },
   "id": "292f495456b8b6bc"
  },
  {
   "cell_type": "code",
   "execution_count": null,
   "outputs": [],
   "source": [],
   "metadata": {
    "collapsed": false
   },
   "id": "c996b3d9177a8fe2"
  }
 ],
 "metadata": {
  "kernelspec": {
   "display_name": "Python 3",
   "language": "python",
   "name": "python3"
  },
  "language_info": {
   "codemirror_mode": {
    "name": "ipython",
    "version": 2
   },
   "file_extension": ".py",
   "mimetype": "text/x-python",
   "name": "python",
   "nbconvert_exporter": "python",
   "pygments_lexer": "ipython2",
   "version": "2.7.6"
  }
 },
 "nbformat": 4,
 "nbformat_minor": 5
}
